# 1️⃣ Import dependencies
import requests, json, random, time

# 2️⃣ Power BI Streaming dataset endpoint
url = "https://api.powerbi.com/beta/<workspace_id>/datasets/<dataset_id>/rows?key=<api_key>"

# 3️⃣ Loop: send simulated metrics
for i in range(20):
    data = [{
        "region": random.choice(["North", "South", "East", "West"]),
        "orders": random.randint(50, 200),
        "revenue": round(random.uniform(1000, 5000), 2),
        "timestamp": time.strftime("%Y-%m-%d %H:%M:%S")
    }]
    
    requests.post(url, data=json.dumps(data), headers={'Content-Type': 'application/json'})
    print(f"📤 Sent: {data}")
    time.sleep(3)

print("✅ Streaming complete. Check Power BI dashboard.")
