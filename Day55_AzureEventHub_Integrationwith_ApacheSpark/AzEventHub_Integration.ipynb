---

### 📓 **notebooks/Day55_AzureEventHub_Integration.ipynb**

```python
# 🧩 Day 55 - Azure Event Hub Integration with Apache Spark

from pyspark.sql import SparkSession
from pyspark.sql.functions import from_json, col, avg
from pyspark.sql.types import StructType, StructField, StringType, TimestampType, DoubleType

# 1️⃣ Create Spark Session
spark = SparkSession.builder.appName("AzureEventHubIntegration").getOrCreate()

# 2️⃣ Event Hub connection
connectionString = "Endpoint=sb://<YourNamespace>.servicebus.windows.net/;SharedAccessKeyName=<KeyName>;SharedAccessKey=<Key>;EntityPath=<EventHubName>"
ehConf = {"eventhubs.connectionString": connectionString}

# 3️⃣ Read data stream from Event Hub
raw_df = spark.readStream.format("eventhubs").options(**ehConf).load()

# 4️⃣ Define event schema
schema = StructType([
    StructField("deviceId", StringType()),
    StructField("temperature", DoubleType()),
    StructField("timestamp", TimestampType())
])

# 5️⃣ Parse message body
parsed_df = raw_df.select(from_json(col("body").cast("string"), schema).alias("data")).select("data.*")

# 6️⃣ Add simple transformation (avg temp by minute)
transformed_df = parsed_df.groupBy("deviceId").avg("temperature").withColumnRenamed("avg(temperature)", "avg_temp")

# 7️⃣ Write to console (can be ADLS / DB instead)
query = transformed_df.writeStream \
    .outputMode("complete") \
    .format("console") \
    .option("truncate", "false") \
    .start()

query.awaitTermination()
